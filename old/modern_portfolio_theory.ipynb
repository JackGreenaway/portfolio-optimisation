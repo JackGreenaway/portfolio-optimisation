{
 "cells": [
  {
   "cell_type": "code",
   "execution_count": 15,
   "metadata": {},
   "outputs": [],
   "source": [
    "import pandas as pd  \n",
    "import numpy as np\n",
    "import matplotlib.pyplot as plt\n",
    "import seaborn as sns\n",
    "import scipy.optimize as sco\n",
    "import yfinance as yf\n",
    "#plt.style.use('fivethirtyeight')\n",
    "#np.random.seed(777)\n",
    "#%matplotlib inline\n",
    "#%config InlineBackend.figure_format = 'retina'"
   ]
  },
  {
   "cell_type": "code",
   "execution_count": 16,
   "metadata": {},
   "outputs": [],
   "source": [
    "rics = ['SGEN', 'URI', 'WYNN', 'GEHC', 'LVS', 'STLD', 'BWA', 'ACGL', 'LW', 'RE']     "
   ]
  },
  {
   "cell_type": "code",
   "execution_count": 17,
   "metadata": {
    "scrolled": true
   },
   "outputs": [
    {
     "name": "stdout",
     "output_type": "stream",
     "text": [
      "[*********************100%***********************]  10 of 10 completed\n"
     ]
    },
    {
     "data": {
      "text/html": [
       "<div>\n",
       "<style scoped>\n",
       "    .dataframe tbody tr th:only-of-type {\n",
       "        vertical-align: middle;\n",
       "    }\n",
       "\n",
       "    .dataframe tbody tr th {\n",
       "        vertical-align: top;\n",
       "    }\n",
       "\n",
       "    .dataframe thead th {\n",
       "        text-align: right;\n",
       "    }\n",
       "</style>\n",
       "<table border=\"1\" class=\"dataframe\">\n",
       "  <thead>\n",
       "    <tr style=\"text-align: right;\">\n",
       "      <th></th>\n",
       "      <th>ACGL</th>\n",
       "      <th>BWA</th>\n",
       "      <th>GEHC</th>\n",
       "      <th>LVS</th>\n",
       "      <th>LW</th>\n",
       "      <th>RE</th>\n",
       "      <th>SGEN</th>\n",
       "      <th>STLD</th>\n",
       "      <th>URI</th>\n",
       "      <th>WYNN</th>\n",
       "    </tr>\n",
       "    <tr>\n",
       "      <th>Date</th>\n",
       "      <th></th>\n",
       "      <th></th>\n",
       "      <th></th>\n",
       "      <th></th>\n",
       "      <th></th>\n",
       "      <th></th>\n",
       "      <th></th>\n",
       "      <th></th>\n",
       "      <th></th>\n",
       "      <th></th>\n",
       "    </tr>\n",
       "  </thead>\n",
       "  <tbody>\n",
       "    <tr>\n",
       "      <th>2022-12-15</th>\n",
       "      <td>60.750000</td>\n",
       "      <td>40.651756</td>\n",
       "      <td>60.000000</td>\n",
       "      <td>48.650002</td>\n",
       "      <td>85.907814</td>\n",
       "      <td>321.006439</td>\n",
       "      <td>128.410004</td>\n",
       "      <td>101.573090</td>\n",
       "      <td>356.264709</td>\n",
       "      <td>84.949997</td>\n",
       "    </tr>\n",
       "    <tr>\n",
       "      <th>2022-12-16</th>\n",
       "      <td>61.029999</td>\n",
       "      <td>40.402603</td>\n",
       "      <td>56.740002</td>\n",
       "      <td>47.490002</td>\n",
       "      <td>86.745445</td>\n",
       "      <td>321.623566</td>\n",
       "      <td>129.610001</td>\n",
       "      <td>100.676155</td>\n",
       "      <td>352.357483</td>\n",
       "      <td>86.010002</td>\n",
       "    </tr>\n",
       "    <tr>\n",
       "      <th>2022-12-19</th>\n",
       "      <td>60.540001</td>\n",
       "      <td>40.482330</td>\n",
       "      <td>56.500000</td>\n",
       "      <td>46.360001</td>\n",
       "      <td>86.865112</td>\n",
       "      <td>320.896942</td>\n",
       "      <td>127.629997</td>\n",
       "      <td>101.194389</td>\n",
       "      <td>350.104858</td>\n",
       "      <td>81.559998</td>\n",
       "    </tr>\n",
       "    <tr>\n",
       "      <th>2022-12-20</th>\n",
       "      <td>62.240002</td>\n",
       "      <td>40.322872</td>\n",
       "      <td>57.209999</td>\n",
       "      <td>46.380001</td>\n",
       "      <td>87.483376</td>\n",
       "      <td>325.505646</td>\n",
       "      <td>133.020004</td>\n",
       "      <td>102.848732</td>\n",
       "      <td>349.466919</td>\n",
       "      <td>82.570000</td>\n",
       "    </tr>\n",
       "    <tr>\n",
       "      <th>2022-12-21</th>\n",
       "      <td>63.360001</td>\n",
       "      <td>40.861042</td>\n",
       "      <td>56.959999</td>\n",
       "      <td>46.889999</td>\n",
       "      <td>88.400787</td>\n",
       "      <td>333.687836</td>\n",
       "      <td>132.320007</td>\n",
       "      <td>104.463219</td>\n",
       "      <td>358.656860</td>\n",
       "      <td>82.599998</td>\n",
       "    </tr>\n",
       "  </tbody>\n",
       "</table>\n",
       "</div>"
      ],
      "text/plain": [
       "                 ACGL        BWA       GEHC        LVS         LW          RE  \\\n",
       "Date                                                                            \n",
       "2022-12-15  60.750000  40.651756  60.000000  48.650002  85.907814  321.006439   \n",
       "2022-12-16  61.029999  40.402603  56.740002  47.490002  86.745445  321.623566   \n",
       "2022-12-19  60.540001  40.482330  56.500000  46.360001  86.865112  320.896942   \n",
       "2022-12-20  62.240002  40.322872  57.209999  46.380001  87.483376  325.505646   \n",
       "2022-12-21  63.360001  40.861042  56.959999  46.889999  88.400787  333.687836   \n",
       "\n",
       "                  SGEN        STLD         URI       WYNN  \n",
       "Date                                                       \n",
       "2022-12-15  128.410004  101.573090  356.264709  84.949997  \n",
       "2022-12-16  129.610001  100.676155  352.357483  86.010002  \n",
       "2022-12-19  127.629997  101.194389  350.104858  81.559998  \n",
       "2022-12-20  133.020004  102.848732  349.466919  82.570000  \n",
       "2022-12-21  132.320007  104.463219  358.656860  82.599998  "
      ]
     },
     "execution_count": 17,
     "metadata": {},
     "output_type": "execute_result"
    }
   ],
   "source": [
    "data = yf.download(rics, start='2010-01-01')['Adj Close']\n",
    "data = data.dropna()\n",
    "data.head()"
   ]
  },
  {
   "attachments": {},
   "cell_type": "markdown",
   "metadata": {},
   "source": [
    "---"
   ]
  },
  {
   "attachments": {},
   "cell_type": "markdown",
   "metadata": {},
   "source": [
    "## Randomisation Technique"
   ]
  },
  {
   "cell_type": "code",
   "execution_count": 18,
   "metadata": {},
   "outputs": [],
   "source": [
    "def portfolio_annualised_performance(weights, mean_returns, cov_matrix):\n",
    "    returns = np.sum(mean_returns*weights) *252\n",
    "    std = np.sqrt(np.dot(weights.T, np.dot(cov_matrix, weights))) * np.sqrt(252)\n",
    "    return std, returns\n",
    "\n",
    "def random_portfolios(num_portfolios, mean_returns, cov_matrix, risk_free_rate):\n",
    "    results = np.zeros((12,num_portfolios))\n",
    "    weights_record = []\n",
    "    for i in range(num_portfolios):\n",
    "        weights = np.random.random(len(data.columns))\n",
    "        weights /= np.sum(weights)\n",
    "        weights_record.append(weights)\n",
    "        portfolio_std_dev, portfolio_return = portfolio_annualised_performance(weights, mean_returns, cov_matrix)\n",
    "        results[0,i] = portfolio_std_dev\n",
    "        results[1,i] = portfolio_return\n",
    "        ## Sharpe Ratio\n",
    "        results[2,i] = (portfolio_return - risk_free_rate) / portfolio_std_dev   \n",
    "    return results, weights_record"
   ]
  },
  {
   "cell_type": "code",
   "execution_count": 19,
   "metadata": {},
   "outputs": [
    {
     "name": "stdout",
     "output_type": "stream",
     "text": [
      "[*********************100%***********************]  1 of 1 completed\n"
     ]
    }
   ],
   "source": [
    "returns = data.pct_change()\n",
    "mean_returns = returns.mean()\n",
    "cov_matrix = returns.cov()\n",
    "\n",
    "risk_free_rate = yf.download('^TNX')['Close'][-1] / 100"
   ]
  },
  {
   "cell_type": "code",
   "execution_count": 22,
   "metadata": {},
   "outputs": [],
   "source": [
    "def neg_sharpe_ratio(weights, mean_returns, cov_matrix, risk_free_rate):\n",
    "    p_var, p_ret = portfolio_annualised_performance(weights, mean_returns, cov_matrix)\n",
    "    return -(p_ret - risk_free_rate) / p_var\n",
    "\n",
    "def max_sharpe_ratio(mean_returns, cov_matrix, risk_free_rate):\n",
    "    num_assets = len(mean_returns)\n",
    "    args = (mean_returns, cov_matrix, risk_free_rate)\n",
    "    constraints = ({'type': 'eq', 'fun': lambda x: np.sum(x) - 1})\n",
    "    bound = (0.0,1.0)\n",
    "    bounds = tuple(bound for asset in range(num_assets))\n",
    "    result = sco.minimize(neg_sharpe_ratio, num_assets*[1./num_assets,], args=args,\n",
    "                        method='SLSQP', bounds=bounds, constraints=constraints)\n",
    "    return result"
   ]
  },
  {
   "cell_type": "code",
   "execution_count": 23,
   "metadata": {},
   "outputs": [],
   "source": [
    "def portfolio_volatility(weights, mean_returns, cov_matrix):\n",
    "    return portfolio_annualised_performance(weights, mean_returns, cov_matrix)[0]\n",
    "\n",
    "def min_variance(mean_returns, cov_matrix):\n",
    "    num_assets = len(mean_returns)\n",
    "    args = (mean_returns, cov_matrix)\n",
    "    constraints = ({'type': 'eq', 'fun': lambda x: np.sum(x) - 1})\n",
    "    bound = (0.0,1.0)\n",
    "    bounds = tuple(bound for asset in range(num_assets))\n",
    "\n",
    "    result = sco.minimize(portfolio_volatility, num_assets*[1./num_assets,], args=args,\n",
    "                        method='SLSQP', bounds=bounds, constraints=constraints)\n",
    "\n",
    "    return result"
   ]
  },
  {
   "cell_type": "code",
   "execution_count": 24,
   "metadata": {},
   "outputs": [],
   "source": [
    "def efficient_return(mean_returns, cov_matrix, target):\n",
    "    num_assets = len(mean_returns)\n",
    "    args = (mean_returns, cov_matrix)\n",
    "\n",
    "    def portfolio_return(weights):\n",
    "        return portfolio_annualised_performance(weights, mean_returns, cov_matrix)[1]\n",
    "\n",
    "    constraints = ({'type': 'eq', 'fun': lambda x: portfolio_return(x) - target},\n",
    "                   {'type': 'eq', 'fun': lambda x: np.sum(x) - 1})\n",
    "    bounds = tuple((0,1) for asset in range(num_assets))\n",
    "    result = sco.minimize(portfolio_volatility, num_assets*[1./num_assets,], args=args, method='SLSQP', bounds=bounds, constraints=constraints)\n",
    "    return result\n",
    "\n",
    "\n",
    "def efficient_frontier(mean_returns, cov_matrix, returns_range):\n",
    "    efficients = []\n",
    "    for ret in returns_range:\n",
    "        efficients.append(efficient_return(mean_returns, cov_matrix, ret))\n",
    "    return efficients"
   ]
  },
  {
   "cell_type": "code",
   "execution_count": 26,
   "metadata": {},
   "outputs": [],
   "source": [
    "def display_ef_with_selected(mean_returns, cov_matrix, risk_free_rate):\n",
    "    max_sharpe = max_sharpe_ratio(mean_returns, cov_matrix, risk_free_rate)\n",
    "    sdp, rp = portfolio_annualised_performance(max_sharpe['x'], mean_returns, cov_matrix)\n",
    "    max_sharpe_allocation = pd.DataFrame(max_sharpe.x,index=data.columns,columns=['allocation'])\n",
    "    max_sharpe_allocation.allocation = [round(i*100,2)for i in max_sharpe_allocation.allocation]\n",
    "    max_sharpe_allocation = max_sharpe_allocation.T\n",
    "\n",
    "    min_vol = min_variance(mean_returns, cov_matrix)\n",
    "    sdp_min, rp_min = portfolio_annualised_performance(min_vol['x'], mean_returns, cov_matrix)\n",
    "    min_vol_allocation = pd.DataFrame(min_vol.x,index=data.columns,columns=['allocation'])\n",
    "    min_vol_allocation.allocation = [round(i*100,2)for i in min_vol_allocation.allocation]\n",
    "    min_vol_allocation = min_vol_allocation.T\n",
    "    \n",
    "    an_vol = np.std(returns) * np.sqrt(252)\n",
    "    an_rt = mean_returns * 252\n",
    "    \n",
    "    print(\"-\"*80)\n",
    "    print(\"Maximum Sharpe Ratio Portfolio Allocation\\n\")\n",
    "    print(\"Annualised Return:\", round(rp,2))\n",
    "    print(\"Annualised Volatility:\", round(sdp,2))\n",
    "    print(\"\\n\")\n",
    "    print(max_sharpe_allocation)\n",
    "    print(\"-\"*80)\n",
    "    print(\"Minimum Volatility Portfolio Allocation\\n\")\n",
    "    print(\"Annualised Return:\", round(rp_min,2))\n",
    "    print(\"Annualised Volatility:\", round(sdp_min,2))\n",
    "    print(\"\\n\")\n",
    "    print(min_vol_allocation)\n",
    "    print(\"-\"*80)\n",
    "    print(\"Individual Stock Returns and Volatility\\n\")\n",
    "    for i, txt in enumerate(data.columns):\n",
    "        print(txt,\":\",\"Annualised return\",round(an_rt[i],2),\", Annualised volatility:\",round(an_vol[i],2))\n",
    "    print(\"-\"*80)\n",
    "    \n",
    "    fig, ax = plt.subplots(figsize=(8, 5))\n",
    "    ax.scatter(an_vol,an_rt,marker='o',s=200)\n",
    "\n",
    "    for i, txt in enumerate(data.columns):\n",
    "        ax.annotate(txt, (an_vol[i],an_rt[i]), xytext=(10,0), textcoords='offset points')\n",
    "    ax.scatter(sdp,rp,marker='*',color='r',s=500, label='Maximum Sharpe ratio')\n",
    "    ax.scatter(sdp_min,rp_min,marker='*',color='g',s=500, label='Minimum volatility')\n",
    "\n",
    "    target = np.linspace(rp_min, 0.34, 50)\n",
    "    efficient_portfolios = efficient_frontier(mean_returns, cov_matrix, target)\n",
    "    ax.plot([p['fun'] for p in efficient_portfolios], target, linestyle='-.', color='black', label='efficient frontier')\n",
    "    ax.set_title('Portfolio Optimization with Individual Stocks')\n",
    "    ax.set_xlabel('Annualised Volatility')\n",
    "    ax.set_ylabel('Annualised Returns')\n",
    "    ax.legend(labelspacing=0.8)"
   ]
  },
  {
   "cell_type": "code",
   "execution_count": 27,
   "metadata": {},
   "outputs": [
    {
     "name": "stdout",
     "output_type": "stream",
     "text": [
      "--------------------------------------------------------------------------------\n",
      "Maximum Sharpe Ratio Portfolio Allocation\n",
      "\n",
      "Annualised Return: 1.09\n",
      "Annualised Volatility: 0.2\n",
      "\n",
      "\n",
      "            ACGL  BWA   GEHC  LVS     LW   RE   SGEN  STLD  URI   WYNN\n",
      "allocation   0.0  0.0  20.97  0.0  31.65  0.0  23.63   0.0  0.0  23.75\n",
      "--------------------------------------------------------------------------------\n",
      "Minimum Volatility Portfolio Allocation\n",
      "\n",
      "Annualised Return: 0.74\n",
      "Annualised Volatility: 0.17\n",
      "\n",
      "\n",
      "            ACGL   BWA   GEHC    LVS     LW     RE  SGEN  STLD  URI  WYNN\n",
      "allocation   0.0  8.12  19.42  15.02  38.36  10.87  8.21   0.0  0.0   0.0\n",
      "--------------------------------------------------------------------------------\n",
      "Individual Stock Returns and Volatility\n",
      "\n",
      "ACGL : Annualised return 0.35 , Annualised volatility: 0.3\n",
      "BWA : Annualised return 0.53 , Annualised volatility: 0.26\n",
      "GEHC : Annualised return 0.98 , Annualised volatility: 0.39\n",
      "LVS : Annualised return 0.54 , Annualised volatility: 0.32\n",
      "LW : Annualised return 0.6 , Annualised volatility: 0.26\n",
      "RE : Annualised return 0.38 , Annualised volatility: 0.33\n",
      "SGEN : Annualised return 1.91 , Annualised volatility: 0.51\n",
      "STLD : Annualised return 0.35 , Annualised volatility: 0.48\n",
      "URI : Annualised return 0.32 , Annualised volatility: 0.4\n",
      "WYNN : Annualised return 1.01 , Annualised volatility: 0.35\n",
      "--------------------------------------------------------------------------------\n"
     ]
    },
    {
     "data": {
      "image/png": "[encoded data removed]",
      "text/plain": [
       "<Figure size 800x500 with 1 Axes>"
      ]
     },
     "metadata": {},
     "output_type": "display_data"
    }
   ],
   "source": [
    "display_ef_with_selected(mean_returns, cov_matrix, risk_free_rate)"
   ]
  }
 ],
 "metadata": {
  "kernelspec": {
   "display_name": "Python 3.9.12 ('base')",
   "language": "python",
   "name": "python3"
  },
  "language_info": {
   "codemirror_mode": {
    "name": "ipython",
    "version": 3
   },
   "file_extension": ".py",
   "mimetype": "text/x-python",
   "name": "python",
   "nbconvert_exporter": "python",
   "pygments_lexer": "ipython3",
   "version": "3.9.13"
  },
  "vscode": {
   "interpreter": {
    "hash": "fc3776ea825f2288ceefe5f685df13be93cd02d34ac5945f3f6dcb72c7ff4efc"
   }
  }
 },
 "nbformat": 4,
 "nbformat_minor": 4
}
