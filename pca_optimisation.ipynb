{
 "cells": [
  {
   "cell_type": "code",
   "execution_count": 34,
   "metadata": {},
   "outputs": [],
   "source": [
    "import yfinance as yf\n",
    "import numpy as np\n",
    "import pandas as pd\n",
    "import matplotlib.pyplot as plt\n",
    "\n",
    "from sklearn.decomposition import PCA\n",
    "\n",
    "pd.set_option(\"display.max_columns\", 500)"
   ]
  },
  {
   "cell_type": "code",
   "execution_count": 77,
   "metadata": {},
   "outputs": [],
   "source": [
    "tickers = tickers = [\n",
    "        \"AAPL\",\n",
    "        \"META\",\n",
    "        \"AMZN\",\n",
    "        \"MSFT\",\n",
    "        \"GOOG\",\n",
    "        \"GS\",\n",
    "        \"XOM\",\n",
    "        \"RBLX\",\n",
    "        \"GME\",\n",
    "        \"FRGT\",\n",
    "        \"GTLB\",\n",
    "        \"WFC\",\n",
    "        \"NVDA\",\n",
    "        \"JPM\",\n",
    "        \"GME\",\n",
    "        \"TSLA\",\n",
    "        \"PD\",\n",
    "        \"JNJ\",\n",
    "        \"LMH\",\n",
    "        \"BBBY\",\n",
    "        \"COST\",\n",
    "        \"SI\",\n",
    "        \"RKT\",\n",
    "    ]"
   ]
  },
  {
   "cell_type": "code",
   "execution_count": 78,
   "metadata": {},
   "outputs": [
    {
     "name": "stdout",
     "output_type": "stream",
     "text": [
      "[*********************100%***********************]  22 of 22 completed\n"
     ]
    }
   ],
   "source": [
    "data = yf.download(tickers, start=\"2010-01-01\")[\"Adj Close\"]"
   ]
  },
  {
   "cell_type": "code",
   "execution_count": 79,
   "metadata": {},
   "outputs": [],
   "source": [
    "# calculate and scale returns\n",
    "returns = data.pct_change().dropna()\n",
    "returns_scaled = (returns - returns.mean()) / returns.std()\n",
    "\n",
    "# create covariance matrix\n",
    "returns_cov = returns_scaled.cov()"
   ]
  },
  {
   "cell_type": "code",
   "execution_count": 80,
   "metadata": {},
   "outputs": [
    {
     "data": {
      "text/html": [
       "<style>#sk-container-id-9 {color: black;background-color: white;}#sk-container-id-9 pre{padding: 0;}#sk-container-id-9 div.sk-toggleable {background-color: white;}#sk-container-id-9 label.sk-toggleable__label {cursor: pointer;display: block;width: 100%;margin-bottom: 0;padding: 0.3em;box-sizing: border-box;text-align: center;}#sk-container-id-9 label.sk-toggleable__label-arrow:before {content: \"▸\";float: left;margin-right: 0.25em;color: #696969;}#sk-container-id-9 label.sk-toggleable__label-arrow:hover:before {color: black;}#sk-container-id-9 div.sk-estimator:hover label.sk-toggleable__label-arrow:before {color: black;}#sk-container-id-9 div.sk-toggleable__content {max-height: 0;max-width: 0;overflow: hidden;text-align: left;background-color: #f0f8ff;}#sk-container-id-9 div.sk-toggleable__content pre {margin: 0.2em;color: black;border-radius: 0.25em;background-color: #f0f8ff;}#sk-container-id-9 input.sk-toggleable__control:checked~div.sk-toggleable__content {max-height: 200px;max-width: 100%;overflow: auto;}#sk-container-id-9 input.sk-toggleable__control:checked~label.sk-toggleable__label-arrow:before {content: \"▾\";}#sk-container-id-9 div.sk-estimator input.sk-toggleable__control:checked~label.sk-toggleable__label {background-color: #d4ebff;}#sk-container-id-9 div.sk-label input.sk-toggleable__control:checked~label.sk-toggleable__label {background-color: #d4ebff;}#sk-container-id-9 input.sk-hidden--visually {border: 0;clip: rect(1px 1px 1px 1px);clip: rect(1px, 1px, 1px, 1px);height: 1px;margin: -1px;overflow: hidden;padding: 0;position: absolute;width: 1px;}#sk-container-id-9 div.sk-estimator {font-family: monospace;background-color: #f0f8ff;border: 1px dotted black;border-radius: 0.25em;box-sizing: border-box;margin-bottom: 0.5em;}#sk-container-id-9 div.sk-estimator:hover {background-color: #d4ebff;}#sk-container-id-9 div.sk-parallel-item::after {content: \"\";width: 100%;border-bottom: 1px solid gray;flex-grow: 1;}#sk-container-id-9 div.sk-label:hover label.sk-toggleable__label {background-color: #d4ebff;}#sk-container-id-9 div.sk-serial::before {content: \"\";position: absolute;border-left: 1px solid gray;box-sizing: border-box;top: 0;bottom: 0;left: 50%;z-index: 0;}#sk-container-id-9 div.sk-serial {display: flex;flex-direction: column;align-items: center;background-color: white;padding-right: 0.2em;padding-left: 0.2em;position: relative;}#sk-container-id-9 div.sk-item {position: relative;z-index: 1;}#sk-container-id-9 div.sk-parallel {display: flex;align-items: stretch;justify-content: center;background-color: white;position: relative;}#sk-container-id-9 div.sk-item::before, #sk-container-id-9 div.sk-parallel-item::before {content: \"\";position: absolute;border-left: 1px solid gray;box-sizing: border-box;top: 0;bottom: 0;left: 50%;z-index: -1;}#sk-container-id-9 div.sk-parallel-item {display: flex;flex-direction: column;z-index: 1;position: relative;background-color: white;}#sk-container-id-9 div.sk-parallel-item:first-child::after {align-self: flex-end;width: 50%;}#sk-container-id-9 div.sk-parallel-item:last-child::after {align-self: flex-start;width: 50%;}#sk-container-id-9 div.sk-parallel-item:only-child::after {width: 0;}#sk-container-id-9 div.sk-dashed-wrapped {border: 1px dashed gray;margin: 0 0.4em 0.5em 0.4em;box-sizing: border-box;padding-bottom: 0.4em;background-color: white;}#sk-container-id-9 div.sk-label label {font-family: monospace;font-weight: bold;display: inline-block;line-height: 1.2em;}#sk-container-id-9 div.sk-label-container {text-align: center;}#sk-container-id-9 div.sk-container {/* jupyter's `normalize.less` sets `[hidden] { display: none; }` but bootstrap.min.css set `[hidden] { display: none !important; }` so we also need the `!important` here to be able to override the default hidden behavior on the sphinx rendered scikit-learn.org. See: https://github.com/scikit-learn/scikit-learn/issues/21755 */display: inline-block !important;position: relative;}#sk-container-id-9 div.sk-text-repr-fallback {display: none;}</style><div id=\"sk-container-id-9\" class=\"sk-top-container\"><div class=\"sk-text-repr-fallback\"><pre>PCA()</pre><b>In a Jupyter environment, please rerun this cell to show the HTML representation or trust the notebook. <br />On GitHub, the HTML representation is unable to render, please try loading this page with nbviewer.org.</b></div><div class=\"sk-container\" hidden><div class=\"sk-item\"><div class=\"sk-estimator sk-toggleable\"><input class=\"sk-toggleable__control sk-hidden--visually\" id=\"sk-estimator-id-9\" type=\"checkbox\" checked><label for=\"sk-estimator-id-9\" class=\"sk-toggleable__label sk-toggleable__label-arrow\">PCA</label><div class=\"sk-toggleable__content\"><pre>PCA()</pre></div></div></div></div></div>"
      ],
      "text/plain": [
       "PCA()"
      ]
     },
     "execution_count": 80,
     "metadata": {},
     "output_type": "execute_result"
    }
   ],
   "source": [
    "# fit PCA, with the number of components == number of assets\n",
    "# num_comp = len(data.columns)\n",
    "pca = PCA()\n",
    "pca.fit(returns_cov)"
   ]
  },
  {
   "cell_type": "code",
   "execution_count": 81,
   "metadata": {},
   "outputs": [],
   "source": [
    "# get the variance % and ratio\n",
    "variance_percent = pd.DataFrame(data=pca.explained_variance_)\n",
    "variance_ratio = pd.DataFrame(data=(pca.explained_variance_ratio_ * 100))"
   ]
  },
  {
   "cell_type": "code",
   "execution_count": 82,
   "metadata": {},
   "outputs": [
    {
     "name": "stdout",
     "output_type": "stream",
     "text": [
      "6 components explain 85.00% of variance (NORMALISED)\n"
     ]
    },
    {
     "data": {
      "text/html": [
       "<div>\n",
       "<style scoped>\n",
       "    .dataframe tbody tr th:only-of-type {\n",
       "        vertical-align: middle;\n",
       "    }\n",
       "\n",
       "    .dataframe tbody tr th {\n",
       "        vertical-align: top;\n",
       "    }\n",
       "\n",
       "    .dataframe thead th {\n",
       "        text-align: right;\n",
       "    }\n",
       "</style>\n",
       "<table border=\"1\" class=\"dataframe\">\n",
       "  <thead>\n",
       "    <tr style=\"text-align: right;\">\n",
       "      <th></th>\n",
       "      <th>0</th>\n",
       "      <th>1</th>\n",
       "      <th>2</th>\n",
       "      <th>3</th>\n",
       "      <th>4</th>\n",
       "      <th>5</th>\n",
       "      <th>6</th>\n",
       "      <th>7</th>\n",
       "      <th>8</th>\n",
       "      <th>9</th>\n",
       "      <th>10</th>\n",
       "      <th>11</th>\n",
       "      <th>12</th>\n",
       "      <th>13</th>\n",
       "      <th>14</th>\n",
       "      <th>15</th>\n",
       "      <th>16</th>\n",
       "      <th>17</th>\n",
       "      <th>18</th>\n",
       "      <th>19</th>\n",
       "      <th>20</th>\n",
       "      <th>21</th>\n",
       "    </tr>\n",
       "  </thead>\n",
       "  <tbody>\n",
       "    <tr>\n",
       "      <th>0</th>\n",
       "      <td>52.826289</td>\n",
       "      <td>14.812437</td>\n",
       "      <td>7.48628</td>\n",
       "      <td>4.545296</td>\n",
       "      <td>3.605643</td>\n",
       "      <td>3.20857</td>\n",
       "      <td>2.613619</td>\n",
       "      <td>2.427863</td>\n",
       "      <td>1.738654</td>\n",
       "      <td>1.369401</td>\n",
       "      <td>1.06787</td>\n",
       "      <td>0.978227</td>\n",
       "      <td>0.916752</td>\n",
       "      <td>0.633897</td>\n",
       "      <td>0.444239</td>\n",
       "      <td>0.329348</td>\n",
       "      <td>0.308684</td>\n",
       "      <td>0.244406</td>\n",
       "      <td>0.174682</td>\n",
       "      <td>0.160085</td>\n",
       "      <td>0.107758</td>\n",
       "      <td>2.293027e-31</td>\n",
       "    </tr>\n",
       "  </tbody>\n",
       "</table>\n",
       "</div>"
      ],
      "text/plain": [
       "          0          1        2         3         4        5         6   \\\n",
       "0  52.826289  14.812437  7.48628  4.545296  3.605643  3.20857  2.613619   \n",
       "\n",
       "         7         8         9        10        11        12        13  \\\n",
       "0  2.427863  1.738654  1.369401  1.06787  0.978227  0.916752  0.633897   \n",
       "\n",
       "         14        15        16        17        18        19        20  \\\n",
       "0  0.444239  0.329348  0.308684  0.244406  0.174682  0.160085  0.107758   \n",
       "\n",
       "             21  \n",
       "0  2.293027e-31  "
      ]
     },
     "execution_count": 82,
     "metadata": {},
     "output_type": "execute_result"
    }
   ],
   "source": [
    "# understand how many components make up the combined variance\n",
    "var_threshold = 0.85\n",
    "\n",
    "var_explained_norm = np.cumsum(pca.explained_variance_ratio_)\n",
    "num_comp_norm = (\n",
    "    np.where(np.logical_not(var_explained_norm < var_threshold))[0][0] + 1\n",
    ")  # +1 due to zero based-arrays\n",
    "print(\n",
    "    \"%d components explain %.2f%% of variance (NORMALISED)\"\n",
    "    % (num_comp_norm, 100 * var_threshold)\n",
    ")\n",
    "variance_ratio.T"
   ]
  },
  {
   "cell_type": "code",
   "execution_count": 83,
   "metadata": {},
   "outputs": [],
   "source": [
    "# get eigen values\n",
    "loadings = pca.components_.T\n",
    "eigenvalues = np.sqrt(pca.explained_variance_)"
   ]
  },
  {
   "cell_type": "code",
   "execution_count": 84,
   "metadata": {},
   "outputs": [],
   "source": [
    "# calculate weights\n",
    "weights = loadings * eigenvalues\n",
    "weights = weights / np.abs(weights).sum(axis=0)"
   ]
  },
  {
   "cell_type": "code",
   "execution_count": 85,
   "metadata": {},
   "outputs": [],
   "source": [
    "# combine multiple components to get the weights of said components\n",
    "combined_weights = weights[:, 0] + weights[:, (num_comp_norm + 1)]\n",
    "combined_weights = abs(combined_weights / np.abs(combined_weights).sum())\n",
    "\n",
    "combined_weights = combined_weights.reshape(1, len(data.columns))"
   ]
  },
  {
   "cell_type": "code",
   "execution_count": 86,
   "metadata": {},
   "outputs": [
    {
     "data": {
      "text/html": [
       "<div>\n",
       "<style scoped>\n",
       "    .dataframe tbody tr th:only-of-type {\n",
       "        vertical-align: middle;\n",
       "    }\n",
       "\n",
       "    .dataframe tbody tr th {\n",
       "        vertical-align: top;\n",
       "    }\n",
       "\n",
       "    .dataframe thead th {\n",
       "        text-align: right;\n",
       "    }\n",
       "</style>\n",
       "<table border=\"1\" class=\"dataframe\">\n",
       "  <thead>\n",
       "    <tr style=\"text-align: right;\">\n",
       "      <th></th>\n",
       "      <th>AAPL</th>\n",
       "      <th>AMZN</th>\n",
       "      <th>BBBY</th>\n",
       "      <th>COST</th>\n",
       "      <th>FRGT</th>\n",
       "      <th>GME</th>\n",
       "      <th>GOOG</th>\n",
       "      <th>GS</th>\n",
       "      <th>GTLB</th>\n",
       "      <th>JNJ</th>\n",
       "      <th>JPM</th>\n",
       "      <th>LMH</th>\n",
       "      <th>META</th>\n",
       "      <th>MSFT</th>\n",
       "      <th>NVDA</th>\n",
       "      <th>PD</th>\n",
       "      <th>RBLX</th>\n",
       "      <th>RKT</th>\n",
       "      <th>SI</th>\n",
       "      <th>TSLA</th>\n",
       "      <th>WFC</th>\n",
       "      <th>XOM</th>\n",
       "    </tr>\n",
       "  </thead>\n",
       "  <tbody>\n",
       "    <tr>\n",
       "      <th>0</th>\n",
       "      <td>0.032473</td>\n",
       "      <td>0.022758</td>\n",
       "      <td>0.079046</td>\n",
       "      <td>0.048702</td>\n",
       "      <td>0.027299</td>\n",
       "      <td>0.067223</td>\n",
       "      <td>0.004282</td>\n",
       "      <td>0.037966</td>\n",
       "      <td>0.099641</td>\n",
       "      <td>0.056747</td>\n",
       "      <td>0.052376</td>\n",
       "      <td>0.007057</td>\n",
       "      <td>0.033076</td>\n",
       "      <td>0.02044</td>\n",
       "      <td>0.043371</td>\n",
       "      <td>0.07749</td>\n",
       "      <td>0.058379</td>\n",
       "      <td>0.057829</td>\n",
       "      <td>0.021888</td>\n",
       "      <td>0.063173</td>\n",
       "      <td>0.035355</td>\n",
       "      <td>0.053428</td>\n",
       "    </tr>\n",
       "  </tbody>\n",
       "</table>\n",
       "</div>"
      ],
      "text/plain": [
       "       AAPL      AMZN      BBBY      COST      FRGT       GME      GOOG  \\\n",
       "0  0.032473  0.022758  0.079046  0.048702  0.027299  0.067223  0.004282   \n",
       "\n",
       "         GS      GTLB       JNJ       JPM       LMH      META     MSFT  \\\n",
       "0  0.037966  0.099641  0.056747  0.052376  0.007057  0.033076  0.02044   \n",
       "\n",
       "       NVDA       PD      RBLX       RKT        SI      TSLA       WFC  \\\n",
       "0  0.043371  0.07749  0.058379  0.057829  0.021888  0.063173  0.035355   \n",
       "\n",
       "        XOM  \n",
       "0  0.053428  "
      ]
     },
     "execution_count": 86,
     "metadata": {},
     "output_type": "execute_result"
    }
   ],
   "source": [
    "# construct dataframe\n",
    "portfolio = pd.DataFrame(data=combined_weights, columns=data.columns)\n",
    "portfolio"
   ]
  },
  {
   "cell_type": "code",
   "execution_count": 87,
   "metadata": {},
   "outputs": [
    {
     "data": {
      "text/plain": [
       "<matplotlib.legend.Legend at 0x183edba03d0>"
      ]
     },
     "execution_count": 87,
     "metadata": {},
     "output_type": "execute_result"
    },
    {
     "data": {
      "image/png": "[encoded data removed]",
      "text/plain": [
       "<Figure size 1200x400 with 1 Axes>"
      ]
     },
     "metadata": {},
     "output_type": "display_data"
    }
   ],
   "source": [
    "# visualise portfolio\n",
    "x_indx = np.arange(len(portfolio.columns))\n",
    "\n",
    "fig, ax = plt.subplots()\n",
    "fig.set_size_inches(12, 4)\n",
    "\n",
    "rects = ax.bar(\n",
    "            x_indx,\n",
    "            portfolio.values.flatten(),\n",
    "            color=\"deepskyblue\",\n",
    "        )\n",
    "\n",
    "ax.set_xticks(x_indx)\n",
    "ax.set_xticklabels(data.columns, rotation=45)\n",
    "ax.set_title(\"Portfolio Weighting\")\n",
    "ax.legend((rects[0],), (\"Asset Weight\",))"
   ]
  },
  {
   "cell_type": "code",
   "execution_count": null,
   "metadata": {},
   "outputs": [],
   "source": []
  }
 ],
 "metadata": {
  "kernelspec": {
   "display_name": "Python 3",
   "language": "python",
   "name": "python3"
  },
  "language_info": {
   "codemirror_mode": {
    "name": "ipython",
    "version": 3
   },
   "file_extension": ".py",
   "mimetype": "text/x-python",
   "name": "python",
   "nbconvert_exporter": "python",
   "pygments_lexer": "ipython3",
   "version": "3.9.13"
  },
  "orig_nbformat": 4
 },
 "nbformat": 4,
 "nbformat_minor": 2
}
